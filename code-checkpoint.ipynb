{
 "cells": [
  {
   "cell_type": "code",
   "execution_count": 2,
   "id": "c451c299",
   "metadata": {},
   "outputs": [],
   "source": [
    "import pandas as pd\n",
    "\n",
    "train = pd.read_csv(\"C:/Users/alanu/Documents/kaggle_competition/tabular_aug_2021/train.csv\")\n"
   ]
  },
  {
   "cell_type": "code",
   "execution_count": 3,
   "id": "6b48a029",
   "metadata": {},
   "outputs": [
    {
     "name": "stdout",
     "output_type": "stream",
     "text": [
      "<class 'pandas.core.frame.DataFrame'>\n",
      "RangeIndex: 250000 entries, 0 to 249999\n",
      "Columns: 102 entries, id to loss\n",
      "dtypes: float64(95), int64(7)\n",
      "memory usage: 194.5 MB\n",
      "None\n"
     ]
    }
   ],
   "source": [
    "print(train.info())"
   ]
  },
  {
   "cell_type": "code",
   "execution_count": 4,
   "id": "a622a5f8",
   "metadata": {},
   "outputs": [
    {
     "name": "stdout",
     "output_type": "stream",
     "text": [
      "   id        f0   f1        f2        f3          f4        f5        f6  \\\n",
      "0   0 -0.002350   59  0.766739 -1.350460     42.2727  16.68570   30.3599   \n",
      "1   1  0.784462  145 -0.463845 -0.530421  27324.9000   3.47545  160.4980   \n",
      "2   2  0.317816   19 -0.432571 -0.382644   1383.2600  19.71290   31.1026   \n",
      "3   3  0.210753   17 -0.616454  0.946362   -119.2530   4.08235  185.2570   \n",
      "4   4  0.439671   20  0.968126 -0.092546     74.3020  12.30650   72.1860   \n",
      "\n",
      "         f7         f8  ...        f91        f92      f93       f94  \\\n",
      "0  1.267300   0.392007  ...  -42.43990  26.854000  1.45751  0.696161   \n",
      "1  0.828007   3.735860  ... -184.13200   7.901370  1.70644 -0.494699   \n",
      "2 -0.515354  34.430800  ...    7.43721  37.218100  3.25339  0.337934   \n",
      "3  1.383310 -47.521400  ...    9.66778   0.626942  1.49425  0.517513   \n",
      "4 -0.233964  24.399100  ...  290.65700  15.604300  1.73557 -0.476668   \n",
      "\n",
      "         f95       f96       f97      f98       f99  loss  \n",
      "0   0.941764  1.828470  0.924090  2.29658  10.48980    15  \n",
      "1  -2.058300  0.819184  0.439152  2.36470   1.14383     3  \n",
      "2   0.615037  2.216760  0.745268  1.69679  12.30550     6  \n",
      "3 -10.222100  2.627310  0.617270  1.45645  10.02880     2  \n",
      "4   1.390190  2.195740  0.826987  1.78485   7.07197     1  \n",
      "\n",
      "[5 rows x 102 columns]\n"
     ]
    }
   ],
   "source": [
    "print(train.head())"
   ]
  },
  {
   "cell_type": "code",
   "execution_count": 6,
   "id": "050d293e",
   "metadata": {},
   "outputs": [
    {
     "name": "stdout",
     "output_type": "stream",
     "text": [
      "Index(['id', 'f0', 'f1', 'f2', 'f3', 'f4', 'f5', 'f6', 'f7', 'f8',\n",
      "       ...\n",
      "       'f91', 'f92', 'f93', 'f94', 'f95', 'f96', 'f97', 'f98', 'f99', 'loss'],\n",
      "      dtype='object', length=102)\n"
     ]
    }
   ],
   "source": [
    "print(train.columns)"
   ]
  },
  {
   "cell_type": "code",
   "execution_count": null,
   "id": "eb89e91c",
   "metadata": {},
   "outputs": [],
   "source": []
  }
 ],
 "metadata": {
  "kernelspec": {
   "display_name": "Python 3",
   "language": "python",
   "name": "python3"
  },
  "language_info": {
   "codemirror_mode": {
    "name": "ipython",
    "version": 3
   },
   "file_extension": ".py",
   "mimetype": "text/x-python",
   "name": "python",
   "nbconvert_exporter": "python",
   "pygments_lexer": "ipython3",
   "version": "3.8.8"
  }
 },
 "nbformat": 4,
 "nbformat_minor": 5
}
